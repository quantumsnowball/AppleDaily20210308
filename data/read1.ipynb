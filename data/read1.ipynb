{
 "cells": [
  {
   "cell_type": "code",
   "execution_count": 1,
   "id": "veterinary-tension",
   "metadata": {},
   "outputs": [],
   "source": [
    "import tabula\n",
    "import pandas as pd\n",
    "import matplotlib.pyplot as plt\n",
    "import seaborn as sns"
   ]
  },
  {
   "cell_type": "code",
   "execution_count": 2,
   "id": "little-maintenance",
   "metadata": {},
   "outputs": [],
   "source": [
    "raw = tabula.read_pdf('2020ar.pdf', pages=4, multiple_tables=True)\n",
    "table = raw[0].iloc[4:60]"
   ]
  },
  {
   "cell_type": "code",
   "execution_count": 3,
   "id": "administrative-career",
   "metadata": {},
   "outputs": [],
   "source": [
    "date = pd.date_range('1965-01-01', '2021-01-01', freq='Y')"
   ]
  },
  {
   "cell_type": "code",
   "execution_count": 4,
   "id": "several-portfolio",
   "metadata": {},
   "outputs": [],
   "source": [
    "def clean_num(num):\n",
    "    val = num.replace('(','-').replace(')','')\n",
    "    return float(val)"
   ]
  },
  {
   "cell_type": "code",
   "execution_count": 5,
   "id": "dental-cathedral",
   "metadata": {},
   "outputs": [],
   "source": [
    "brk = pd.Series(table[1].apply(clean_num).values, index=date, name='Berkshire Hathaway')\n",
    "spx = pd.Series(table[2].apply(clean_num).values, index=date, name='S&P 500 Index')\n",
    "pctchg = pd.concat([brk, spx], axis=1)"
   ]
  },
  {
   "cell_type": "code",
   "execution_count": 6,
   "id": "mexican-month",
   "metadata": {},
   "outputs": [],
   "source": [
    "pctchg.to_csv('annual_pctchg.csv')"
   ]
  }
 ],
 "metadata": {
  "kernelspec": {
   "display_name": "Python 3",
   "language": "python",
   "name": "python3"
  },
  "language_info": {
   "codemirror_mode": {
    "name": "ipython",
    "version": 3
   },
   "file_extension": ".py",
   "mimetype": "text/x-python",
   "name": "python",
   "nbconvert_exporter": "python",
   "pygments_lexer": "ipython3",
   "version": "3.8.5"
  }
 },
 "nbformat": 4,
 "nbformat_minor": 5
}
